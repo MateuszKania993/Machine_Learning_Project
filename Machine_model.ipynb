{
 "cells": [
  {
   "cell_type": "code",
   "execution_count": 1,
   "metadata": {},
   "outputs": [
    {
     "data": {
      "text/html": [
       "<div>\n",
       "<style scoped>\n",
       "    .dataframe tbody tr th:only-of-type {\n",
       "        vertical-align: middle;\n",
       "    }\n",
       "\n",
       "    .dataframe tbody tr th {\n",
       "        vertical-align: top;\n",
       "    }\n",
       "\n",
       "    .dataframe thead th {\n",
       "        text-align: right;\n",
       "    }\n",
       "</style>\n",
       "<table border=\"1\" class=\"dataframe\">\n",
       "  <thead>\n",
       "    <tr style=\"text-align: right;\">\n",
       "      <th></th>\n",
       "      <th>price</th>\n",
       "      <th>year</th>\n",
       "      <th>condition</th>\n",
       "      <th>fuel</th>\n",
       "      <th>odometer</th>\n",
       "      <th>transmission</th>\n",
       "    </tr>\n",
       "  </thead>\n",
       "  <tbody>\n",
       "    <tr>\n",
       "      <th>0</th>\n",
       "      <td>11900.0</td>\n",
       "      <td>2010.0</td>\n",
       "      <td>3</td>\n",
       "      <td>5</td>\n",
       "      <td>43600.0</td>\n",
       "      <td>3</td>\n",
       "    </tr>\n",
       "    <tr>\n",
       "      <th>1</th>\n",
       "      <td>2800.0</td>\n",
       "      <td>2004.0</td>\n",
       "      <td>3</td>\n",
       "      <td>5</td>\n",
       "      <td>168591.0</td>\n",
       "      <td>3</td>\n",
       "    </tr>\n",
       "    <tr>\n",
       "      <th>2</th>\n",
       "      <td>9900.0</td>\n",
       "      <td>2007.0</td>\n",
       "      <td>3</td>\n",
       "      <td>5</td>\n",
       "      <td>169000.0</td>\n",
       "      <td>3</td>\n",
       "    </tr>\n",
       "    <tr>\n",
       "      <th>3</th>\n",
       "      <td>12500.0</td>\n",
       "      <td>2015.0</td>\n",
       "      <td>5</td>\n",
       "      <td>5</td>\n",
       "      <td>39500.0</td>\n",
       "      <td>3</td>\n",
       "    </tr>\n",
       "    <tr>\n",
       "      <th>4</th>\n",
       "      <td>12995.0</td>\n",
       "      <td>2003.0</td>\n",
       "      <td>4</td>\n",
       "      <td>5</td>\n",
       "      <td>236000.0</td>\n",
       "      <td>3</td>\n",
       "    </tr>\n",
       "    <tr>\n",
       "      <th>...</th>\n",
       "      <td>...</td>\n",
       "      <td>...</td>\n",
       "      <td>...</td>\n",
       "      <td>...</td>\n",
       "      <td>...</td>\n",
       "      <td>...</td>\n",
       "    </tr>\n",
       "    <tr>\n",
       "      <th>9995</th>\n",
       "      <td>2500.0</td>\n",
       "      <td>2001.0</td>\n",
       "      <td>3</td>\n",
       "      <td>5</td>\n",
       "      <td>400000.0</td>\n",
       "      <td>3</td>\n",
       "    </tr>\n",
       "    <tr>\n",
       "      <th>9996</th>\n",
       "      <td>4500.0</td>\n",
       "      <td>1999.0</td>\n",
       "      <td>4</td>\n",
       "      <td>5</td>\n",
       "      <td>123000.0</td>\n",
       "      <td>3</td>\n",
       "    </tr>\n",
       "    <tr>\n",
       "      <th>9997</th>\n",
       "      <td>6990.0</td>\n",
       "      <td>2010.0</td>\n",
       "      <td>4</td>\n",
       "      <td>5</td>\n",
       "      <td>127750.0</td>\n",
       "      <td>3</td>\n",
       "    </tr>\n",
       "    <tr>\n",
       "      <th>9998</th>\n",
       "      <td>2900.0</td>\n",
       "      <td>2007.0</td>\n",
       "      <td>4</td>\n",
       "      <td>5</td>\n",
       "      <td>162000.0</td>\n",
       "      <td>3</td>\n",
       "    </tr>\n",
       "    <tr>\n",
       "      <th>9999</th>\n",
       "      <td>13500.0</td>\n",
       "      <td>2009.0</td>\n",
       "      <td>4</td>\n",
       "      <td>5</td>\n",
       "      <td>99675.0</td>\n",
       "      <td>3</td>\n",
       "    </tr>\n",
       "  </tbody>\n",
       "</table>\n",
       "<p>10000 rows × 6 columns</p>\n",
       "</div>"
      ],
      "text/plain": [
       "        price    year  condition  fuel  odometer  transmission\n",
       "0     11900.0  2010.0          3     5   43600.0             3\n",
       "1      2800.0  2004.0          3     5  168591.0             3\n",
       "2      9900.0  2007.0          3     5  169000.0             3\n",
       "3     12500.0  2015.0          5     5   39500.0             3\n",
       "4     12995.0  2003.0          4     5  236000.0             3\n",
       "...       ...     ...        ...   ...       ...           ...\n",
       "9995   2500.0  2001.0          3     5  400000.0             3\n",
       "9996   4500.0  1999.0          4     5  123000.0             3\n",
       "9997   6990.0  2010.0          4     5  127750.0             3\n",
       "9998   2900.0  2007.0          4     5  162000.0             3\n",
       "9999  13500.0  2009.0          4     5   99675.0             3\n",
       "\n",
       "[10000 rows x 6 columns]"
      ]
     },
     "execution_count": 1,
     "metadata": {},
     "output_type": "execute_result"
    }
   ],
   "source": [
    "import pandas as pd\n",
    "import numpy as np\n",
    "import matplotlib.pyplot as plt\n",
    "\n",
    "df = pd.read_csv('skychallenge_clean_data.csv')\n",
    "\n",
    "\n",
    "df = df.head(10000)\n",
    "# df = df.drop(columns = ['condition', 'fuel', 'transmission'])\n",
    "df = df.drop_duplicates()\n",
    "df"
   ]
  },
  {
   "cell_type": "code",
   "execution_count": 2,
   "metadata": {},
   "outputs": [],
   "source": [
    "from statsmodels.graphics.correlation import plot_corr \n",
    "from sklearn.model_selection import train_test_split\n",
    "import seaborn as sns\n",
    "plt.style.use('seaborn') \n",
    "\n",
    "x = df.drop('price', axis=1)\n",
    "y = df[['price']]\n",
    "\n",
    "seed = 42\n",
    "\n",
    "test_data_size = 0.25\n",
    "\n",
    "X_train, X_test, Y_train, Y_test = train_test_split(x,y, test_size = test_data_size, random_state = seed)\n",
    "\n",
    "train_data = pd.concat([X_train, Y_train], axis = 1)\n",
    "test_data = pd.concat([X_test, Y_test], axis = 1)\n",
    "\n",
    "corrMatrix = train_data.corr(method= 'pearson')\n",
    "xnames = list(train_data.columns)\n",
    "ynames = list(train_data.columns)"
   ]
  },
  {
   "cell_type": "code",
   "execution_count": null,
   "metadata": {},
   "outputs": [],
   "source": [
    "from sklearn import linear_model\n",
    "from sklearn.metrics import explained_variance_score, accuracy_score\n",
    "from sklearn.svm import SVC\n",
    "\n",
    "\n",
    "X_train = np.array(X_train)\n",
    "Y_train = np.ravel(np.array(Y_train))\n",
    "X_test = np.array(X_test)\n",
    "Y_test = np.array(Y_test)\n",
    "\n",
    "clf = SVC()\n",
    "\n",
    "clf.fit(X_train, Y_train)\n",
    "\n",
    "preds = clf.predict(X_train)\n",
    "\n",
    "# print(type(preds))\n",
    "\n",
    "# print(type(Y_test))\n",
    "\n",
    "train_acc = explained_variance_score(Y_train, preds)"
   ]
  },
  {
   "cell_type": "code",
   "execution_count": 24,
   "metadata": {},
   "outputs": [
    {
     "name": "stdout",
     "output_type": "stream",
     "text": [
      "0.1622772189808558\n"
     ]
    }
   ],
   "source": [
    "print(train_acc)"
   ]
  },
  {
   "cell_type": "code",
   "execution_count": 9,
   "metadata": {},
   "outputs": [
    {
     "name": "stdout",
     "output_type": "stream",
     "text": [
      "0.004\n"
     ]
    }
   ],
   "source": [
    "from sklearn import linear_model\n",
    "from sklearn.metrics import explained_variance_score, accuracy_score\n",
    "\n",
    "\n",
    "X_train = np.array(X_train)\n",
    "Y_train = np.ravel(np.array(Y_train))\n",
    "X_test = np.array(X_test)\n",
    "Y_test = np.array(Y_test)\n",
    "\n",
    "\n",
    "clf = linear_model.SGDClassifier(max_iter = 10000)\n",
    "\n",
    "clf.fit(X_train, Y_train)\n",
    "\n",
    "preds = clf.predict(X_test)\n",
    "\n",
    "\n",
    "train_acc = accuracy_score(Y_test, preds)\n",
    "\n",
    "print(train_acc)"
   ]
  },
  {
   "cell_type": "code",
   "execution_count": 3,
   "metadata": {},
   "outputs": [
    {
     "name": "stderr",
     "output_type": "stream",
     "text": [
      "c:\\users\\user\\appdata\\local\\programs\\python\\python37\\lib\\site-packages\\ipykernel_launcher.py:5: DataConversionWarning: A column-vector y was passed when a 1d array was expected. Please change the shape of y to (n_samples,), for example using ravel().\n",
      "  \"\"\"\n"
     ]
    },
    {
     "name": "stdout",
     "output_type": "stream",
     "text": [
      "0.3141333333333333\n"
     ]
    }
   ],
   "source": [
    "from sklearn.ensemble import RandomForestClassifier\n",
    "from sklearn.metrics import accuracy_score\n",
    "\n",
    "rf_model = RandomForestClassifier(random_state=1, n_estimators=50, max_depth=10, min_samples_leaf=3)\n",
    "rf_model.fit(X_train, Y_train)\n",
    "\n",
    "train_preds = rf_model.predict(X_train)\n",
    "\n",
    "train_acc = accuracy_score(Y_train, train_preds)\n",
    "print(train_acc)"
   ]
  },
  {
   "cell_type": "code",
   "execution_count": null,
   "metadata": {},
   "outputs": [],
   "source": []
  }
 ],
 "metadata": {
  "kernelspec": {
   "display_name": "Python 3",
   "language": "python",
   "name": "python3"
  },
  "language_info": {
   "codemirror_mode": {
    "name": "ipython",
    "version": 3
   },
   "file_extension": ".py",
   "mimetype": "text/x-python",
   "name": "python",
   "nbconvert_exporter": "python",
   "pygments_lexer": "ipython3",
   "version": "3.7.4"
  }
 },
 "nbformat": 4,
 "nbformat_minor": 2
}
